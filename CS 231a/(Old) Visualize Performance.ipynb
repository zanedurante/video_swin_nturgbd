{
 "cells": [
  {
   "cell_type": "code",
   "execution_count": 1,
   "id": "22e2117e",
   "metadata": {
    "scrolled": true
   },
   "outputs": [
    {
     "name": "stdout",
     "output_type": "stream",
     "text": [
      "20220127_003708.log\t  epoch_14.pth\tepoch_5.pth  fine-tune-config.py\r\n",
      "20220127_003708.log.json  epoch_1.pth\tepoch_6.pth  latest.pth\r\n",
      "20220131_131352.log\t  epoch_2.pth\tepoch_7.pth\r\n",
      "20220131_131352.log.json  epoch_3.pth\tepoch_8.pth\r\n",
      "epoch_10.pth\t\t  epoch_4.pth\tepoch_9.pth\r\n"
     ]
    }
   ],
   "source": [
    "!ls work_dirs/nturgbd_swin_tiny_patch244_window877.py/"
   ]
  },
  {
   "cell_type": "code",
   "execution_count": 2,
   "id": "3d35abed",
   "metadata": {},
   "outputs": [],
   "source": [
    "files = ['work_dirs/nturgbd_swin_tiny_patch244_window877.py/20220127_003708.log.json', 'work_dirs/frozen_nturgbd_swin_tiny_patch244_window877.py/20220127_142917.log.json']\n",
    "legend = ['unfrozen', 'frozen']\n",
    "data = ['loss'] #, 'top1_acc', 'top5_acc']\n",
    "# Size of dataset \n",
    "dataset_size = 16086"
   ]
  },
  {
   "cell_type": "code",
   "execution_count": 3,
   "id": "5e519610",
   "metadata": {},
   "outputs": [
    {
     "name": "stdout",
     "output_type": "stream",
     "text": [
      "0.5560412388059702\n"
     ]
    }
   ],
   "source": [
    "# get times\n",
    "import numpy as np\n",
    "import json\n",
    "# work_dirs/frozen_nturgbd_swin_tiny_patch244_window877.py/20220127_142917.log.json\n",
    "new_file = 'work_dirs/frozen_nturgbd_swin_tiny_patch244_window877.py/20220127_142917.log.json'\n",
    "times = []\n",
    "skip = True\n",
    "for line in open(new_file, 'r'):\n",
    "    if skip:\n",
    "        skip = False\n",
    "        continue # skip first line\n",
    "    times.append(json.loads(line)['time'])\n",
    "print(np.mean(times))\n",
    "# file 0: 0.6814054552801724\n",
    "# file 1: 0.53849\n",
    "# new file: 0.504035"
   ]
  },
  {
   "cell_type": "code",
   "execution_count": 4,
   "id": "ebf8feae",
   "metadata": {},
   "outputs": [],
   "source": [
    "# Iterations reset at the end of the epoch\n",
    "from collections import defaultdict\n",
    "iter2times = defaultdict(lambda:0) # keeps track of how many times each iter has been seen\n",
    "\n",
    "def reset_iters():\n",
    "    iter2times.clear()\n",
    "\n",
    "def get_real_iter(i):\n",
    "    val = dataset_size * iter2times[i] + i\n",
    "    iter2times[i] += 1\n",
    "    return val"
   ]
  },
  {
   "cell_type": "code",
   "execution_count": 5,
   "id": "d04eaa07",
   "metadata": {},
   "outputs": [
    {
     "name": "stdout",
     "output_type": "stream",
     "text": [
      "{'mode': 'train', 'epoch': 1, 'iter': 20, 'lr': 0.0001, 'memory': 1699, 'data_time': 0.33229, 'top1_acc': 0.0, 'top5_acc': 0.075, 'loss_cls': 4.07812, 'loss': 4.07812, 'time': 0.68072}\n"
     ]
    }
   ],
   "source": [
    "steps = []\n",
    "for line in open(files[1], 'r'):\n",
    "    steps.append(json.loads(line))\n",
    "print(steps[1])"
   ]
  },
  {
   "cell_type": "code",
   "execution_count": 6,
   "id": "5a55e108",
   "metadata": {},
   "outputs": [],
   "source": [
    "key2data = {}\n",
    "for file, key in zip(files, legend):\n",
    "    steps = []\n",
    "    for line in open(file, 'r'):\n",
    "        steps.append(json.loads(line))\n",
    "    data2steps = {}\n",
    "    for dat in data:\n",
    "        reset_iters()\n",
    "        data2steps[dat] = []\n",
    "        data2steps['iter'] = []\n",
    "        for step in steps[1:]: # First step is env_info\n",
    "            data2steps[dat].append(step[dat])\n",
    "            data2steps['iter'].append(get_real_iter(step['iter']))\n",
    "    \n",
    "    key2data[key] = data2steps\n",
    "        "
   ]
  },
  {
   "cell_type": "code",
   "execution_count": 7,
   "id": "ba36ce73",
   "metadata": {},
   "outputs": [],
   "source": [
    "import matplotlib.pyplot as plt"
   ]
  },
  {
   "cell_type": "code",
   "execution_count": 8,
   "id": "44be3c32",
   "metadata": {},
   "outputs": [
    {
     "name": "stdout",
     "output_type": "stream",
     "text": [
      "64344\n"
     ]
    }
   ],
   "source": [
    "print(4 * dataset_size)"
   ]
  },
  {
   "cell_type": "code",
   "execution_count": 12,
   "id": "bdc77a47",
   "metadata": {
    "scrolled": false
   },
   "outputs": [
    {
     "name": "stdout",
     "output_type": "stream",
     "text": [
      "plotting unfrozen\n",
      "plotting loss for unfrozen\n",
      "plotting frozen\n",
      "plotting loss for frozen\n"
     ]
    },
    {
     "data": {
      "image/png": "[encoded data removed]",
      "text/plain": [
       "<Figure size 432x288 with 1 Axes>"
      ]
     },
     "metadata": {
      "needs_background": "light"
     },
     "output_type": "display_data"
    },
    {
     "data": {
      "text/plain": [
       "<Figure size 1440x1440 with 0 Axes>"
      ]
     },
     "metadata": {},
     "output_type": "display_data"
    }
   ],
   "source": [
    "for key in key2data:\n",
    "    print(\"plotting\", key)\n",
    "    for dat in data:\n",
    "        print(\"plotting\", dat, \"for\", key)\n",
    "        x, y = key2data[key]['iter'], savgol_filter(key2data[key][dat], 51, 3)\n",
    "        max_steps = 2000\n",
    "        x, y = x[:1000], y[:1000]\n",
    "        plt.plot(x, y)\n",
    "\n",
    "axes1 = plt.gca()\n",
    "axes1.set_xlabel(\"Training steps\")\n",
    "axes1.set_ylabel(\"Classification Loss\")\n",
    "axes1.legend(legend)\n",
    "plt.title('Classification loss of frozen vs unfrozen')\n",
    "plt.savefig('visualization.png')\n",
    "plt.figure(figsize=(20,20))\n",
    "plt.show()"
   ]
  },
  {
   "cell_type": "code",
   "execution_count": null,
   "id": "b4bc5740",
   "metadata": {},
   "outputs": [],
   "source": [
    "# Next step: visualize on validation set"
   ]
  }
 ],
 "metadata": {
  "kernelspec": {
   "display_name": "Python 3",
   "language": "python",
   "name": "python3"
  },
  "language_info": {
   "codemirror_mode": {
    "name": "ipython",
    "version": 3
   },
   "file_extension": ".py",
   "mimetype": "text/x-python",
   "name": "python",
   "nbconvert_exporter": "python",
   "pygments_lexer": "ipython3",
   "version": "3.9.7"
  }
 },
 "nbformat": 4,
 "nbformat_minor": 5
}
