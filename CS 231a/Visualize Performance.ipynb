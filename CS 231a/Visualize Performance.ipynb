{
 "cells": [
  {
   "cell_type": "code",
   "execution_count": 1,
   "id": "b42470b3",
   "metadata": {},
   "outputs": [],
   "source": [
    "%matplotlib inline"
   ]
  },
  {
   "cell_type": "code",
   "execution_count": 2,
   "id": "22e2117e",
   "metadata": {
    "scrolled": true
   },
   "outputs": [
    {
     "name": "stdout",
     "output_type": "stream",
     "text": [
      "50_few_shot_nturgbd_frozen_swin_tiny_rgb.py\r\n",
      "50_few_shot_nturgbd_swin_tiny_rgb.py\r\n",
      "few_shot_nturgbd_swin_tiny_patch244_window877.py\r\n",
      "few_shot_nturgbd_swin_tiny_rgb.py\r\n",
      "frozen_nturgbd_swin_tiny_patch244_window877.py\r\n",
      "nturgbd_swin_tiny_patch244_window877.py\r\n",
      "small_depth_nturgbd_swin_tiny_patch244_window877_0-1Norm_4_exs.py\r\n",
      "small_depth_nturgbd_swin_tiny_patch244_window877_0-1Norm.py\r\n",
      "small_depth_nturgbd_swin_tiny_patch244_window877.py\r\n"
     ]
    }
   ],
   "source": [
    "!ls /vision/group/ntu-rgbd/zane/work_dirs/"
   ]
  },
  {
   "cell_type": "code",
   "execution_count": 3,
   "id": "9f38976f",
   "metadata": {},
   "outputs": [
    {
     "name": "stdout",
     "output_type": "stream",
     "text": [
      "20220131_174809.log\t  20220201_000234.log\t    epoch_4.pth\r\n",
      "20220131_174809.log.json  20220201_000234.log.json  epoch_5.pth\r\n",
      "20220131_180856.log\t  20220219_220117.log\t    epoch_6.pth\r\n",
      "20220131_180856.log.json  20220219_220117.log.json  fine-tune-config.py\r\n",
      "20220131_182424.log\t  epoch_1.pth\t\t    latest.pth\r\n",
      "20220131_182424.log.json  epoch_2.pth\r\n",
      "20220131_235730.log\t  epoch_3.pth\r\n"
     ]
    }
   ],
   "source": [
    "!ls /vision/group/ntu-rgbd/zane/work_dirs/nturgbd_swin_tiny_patch244_window877.py"
   ]
  },
  {
   "cell_type": "code",
   "execution_count": 4,
   "id": "3d35abed",
   "metadata": {},
   "outputs": [],
   "source": [
    "WORK_DIR = '/vision/group/ntu-rgbd/zane/work_dirs/'\n",
    "\n",
    "files = [WORK_DIR + 'frozen_nturgbd_swin_tiny_patch244_window877.py/20220131_182425.log.json', \n",
    "         WORK_DIR + 'nturgbd_swin_tiny_patch244_window877.py/20220201_000234.log.json',\n",
    "         WORK_DIR + 'small_depth_nturgbd_swin_tiny_patch244_window877.py/20220131_232508.log.json']\n",
    "legend = ['frozen', 'unfrozen', 'depth']\n",
    "metric = 'loss' #, 'top1_acc', 'top5_acc']\n",
    "# Size of dataset \n",
    "dataset_size = 12870\n",
    "step_size = 20 # num examples in each step\n",
    "num_gpus = 2"
   ]
  },
  {
   "cell_type": "code",
   "execution_count": null,
   "id": "4d1216d4",
   "metadata": {},
   "outputs": [],
   "source": []
  },
  {
   "cell_type": "code",
   "execution_count": 6,
   "id": "ebf8feae",
   "metadata": {},
   "outputs": [],
   "source": [
    "# Iterations reset at the end of the epoch\n",
    "from collections import defaultdict\n",
    "iter2times = defaultdict(lambda:0) # keeps track of how many times each iter has been seen\n",
    "\n",
    "def reset_iters():\n",
    "    iter2times.clear()\n",
    "\n",
    "def get_real_iter(i):\n",
    "    val = dataset_size * iter2times[i] + i * num_gpus\n",
    "    iter2times[i] += 1\n",
    "    return val"
   ]
  },
  {
   "cell_type": "code",
   "execution_count": 7,
   "id": "d04eaa07",
   "metadata": {},
   "outputs": [
    {
     "name": "stdout",
     "output_type": "stream",
     "text": [
      "{'mode': 'val', 'epoch': 1, 'iter': 805, 'lr': 0.0, 'memory': 8175, 'data_time': 0.24246, 'top1_acc': 0.54783, 'top5_acc': 0.91988, 'loss_cls': 1.68449, 'loss': 1.68449, 'time': 0.45878}\n",
      "{'mode': 'val', 'epoch': 1, 'iter': 805, 'lr': 0.0, 'memory': 8175, 'data_time': 0.03818, 'top1_acc': 0.54783, 'top5_acc': 0.91988, 'loss_cls': 1.68449, 'loss': 1.68449, 'time': 0.26299}\n",
      "{'mode': 'val', 'epoch': 2, 'iter': 805, 'lr': 1e-05, 'memory': 8175, 'data_time': 0.26304, 'top1_acc': 0.73975, 'top5_acc': 0.97888, 'loss_cls': 0.81732, 'loss': 0.81732, 'time': 0.47749}\n",
      "{'mode': 'val', 'epoch': 2, 'iter': 805, 'lr': 1e-05, 'memory': 8175, 'data_time': 0.03797, 'top1_acc': 0.73975, 'top5_acc': 0.97888, 'loss_cls': 0.81732, 'loss': 0.81732, 'time': 0.26201}\n",
      "{'mode': 'val', 'epoch': 3, 'iter': 805, 'lr': 1e-05, 'memory': 8175, 'data_time': 0.31454, 'top1_acc': 0.79193, 'top5_acc': 0.99068, 'loss_cls': 0.58341, 'loss': 0.58341, 'time': 0.52784}\n",
      "{'mode': 'val', 'epoch': 3, 'iter': 805, 'lr': 1e-05, 'memory': 8175, 'data_time': 0.04036, 'top1_acc': 0.79193, 'top5_acc': 0.99068, 'loss_cls': 0.58341, 'loss': 0.58341, 'time': 0.26436}\n",
      "{'mode': 'val', 'epoch': 4, 'iter': 805, 'lr': 1e-05, 'memory': 8175, 'data_time': 0.39021, 'top1_acc': 0.8236, 'top5_acc': 0.99193, 'loss_cls': 0.47711, 'loss': 0.47711, 'time': 0.60109}\n",
      "{'mode': 'val', 'epoch': 4, 'iter': 805, 'lr': 1e-05, 'memory': 8175, 'data_time': 0.03729, 'top1_acc': 0.8236, 'top5_acc': 0.99193, 'loss_cls': 0.47711, 'loss': 0.47711, 'time': 0.26267}\n",
      "{'mode': 'val', 'epoch': 5, 'iter': 805, 'lr': 1e-05, 'memory': 8175, 'data_time': 0.43357, 'top1_acc': 0.83416, 'top5_acc': 0.99503, 'loss_cls': 0.46792, 'loss': 0.46792, 'time': 0.6427}\n",
      "{'mode': 'val', 'epoch': 5, 'iter': 805, 'lr': 1e-05, 'memory': 8175, 'data_time': 0.03907, 'top1_acc': 0.83416, 'top5_acc': 0.99503, 'loss_cls': 0.46792, 'loss': 0.46792, 'time': 0.26401}\n",
      "{'mode': 'val', 'epoch': 6, 'iter': 805, 'lr': 1e-05, 'memory': 8175, 'data_time': 0.3988, 'top1_acc': 0.84286, 'top5_acc': 0.99565, 'loss_cls': 0.42318, 'loss': 0.42318, 'time': 0.60965}\n",
      "{'mode': 'val', 'epoch': 6, 'iter': 805, 'lr': 1e-05, 'memory': 8175, 'data_time': 0.0355, 'top1_acc': 0.84286, 'top5_acc': 0.99565, 'loss_cls': 0.42318, 'loss': 0.42318, 'time': 0.26163}\n"
     ]
    }
   ],
   "source": [
    "import numpy as np\n",
    "import json\n",
    "steps = []\n",
    "for line in open(files[1], 'r'):\n",
    "    steps.append(json.loads(line))\n",
    "\n",
    "modes = []\n",
    "for step in steps[1:]:\n",
    "    if step['mode'] == 'val':\n",
    "        print(step)"
   ]
  },
  {
   "cell_type": "code",
   "execution_count": 8,
   "id": "5a55e108",
   "metadata": {},
   "outputs": [],
   "source": [
    "modes = ['train', 'val']\n",
    "key2data = {}\n",
    "for file, key in zip(files, legend):\n",
    "    steps = []\n",
    "    for line in open(file, 'r'):\n",
    "        steps.append(json.loads(line))\n",
    "    mode2steps = {}\n",
    "    for mode in modes:\n",
    "        reset_iters()\n",
    "        mode2steps[mode] = []\n",
    "        if mode == 'train':\n",
    "            mode2steps['iter'] = []           \n",
    "            for s, step in enumerate(steps[1:]): # First step is env_info\n",
    "                if step['mode'] == 'train':\n",
    "                    mode2steps[mode].append(step[metric])\n",
    "                    mode2steps['iter'].append(get_real_iter(step['iter']))\n",
    "\n",
    "        elif mode == 'val':\n",
    "            mode2steps['epoch'] = []\n",
    "            for step in steps[1:]:\n",
    "                if step['mode'] == 'val':\n",
    "                    mode2steps[mode].append(step[metric])\n",
    "                    mode2steps['epoch'].append(step['epoch'] * dataset_size)\n",
    "    \n",
    "    key2data[key] = mode2steps\n",
    "        "
   ]
  },
  {
   "cell_type": "code",
   "execution_count": 9,
   "id": "6a65d432",
   "metadata": {},
   "outputs": [
    {
     "data": {
      "text/plain": [
       "[<matplotlib.lines.Line2D at 0x7f166cfbcc70>]"
      ]
     },
     "execution_count": 9,
     "metadata": {},
     "output_type": "execute_result"
    },
    {
     "data": {
      "image/png": "[encoded data removed]",
      "text/plain": [
       "<Figure size 432x288 with 1 Axes>"
      ]
     },
     "metadata": {
      "needs_background": "light"
     },
     "output_type": "display_data"
    }
   ],
   "source": [
    "import matplotlib.pyplot as plt\n",
    "plt.plot(key2data['frozen']['train'])"
   ]
  },
  {
   "cell_type": "code",
   "execution_count": 10,
   "id": "01790645",
   "metadata": {
    "scrolled": true
   },
   "outputs": [
    {
     "data": {
      "text/plain": [
       "[<matplotlib.lines.Line2D at 0x7f166c665850>]"
      ]
     },
     "execution_count": 10,
     "metadata": {},
     "output_type": "execute_result"
    },
    {
     "data": {
      "image/png": "[encoded data removed]",
      "text/plain": [
       "<Figure size 432x288 with 1 Axes>"
      ]
     },
     "metadata": {
      "needs_background": "light"
     },
     "output_type": "display_data"
    }
   ],
   "source": [
    "plt.plot(key2data['frozen']['val'])"
   ]
  },
  {
   "cell_type": "code",
   "execution_count": 11,
   "id": "c6886aaa",
   "metadata": {},
   "outputs": [
    {
     "data": {
      "text/plain": [
       "[1.68449,\n",
       " 1.68449,\n",
       " 0.81732,\n",
       " 0.81732,\n",
       " 0.58341,\n",
       " 0.58341,\n",
       " 0.47711,\n",
       " 0.47711,\n",
       " 0.46792,\n",
       " 0.46792,\n",
       " 0.42318,\n",
       " 0.42318]"
      ]
     },
     "execution_count": 11,
     "metadata": {},
     "output_type": "execute_result"
    }
   ],
   "source": [
    "key2data['unfrozen']['val']"
   ]
  },
  {
   "cell_type": "code",
   "execution_count": 12,
   "id": "ba36ce73",
   "metadata": {},
   "outputs": [
    {
     "data": {
      "text/plain": [
       "[4.18036, 4.16696, 4.17306, 4.13934, 4.12894]"
      ]
     },
     "execution_count": 12,
     "metadata": {},
     "output_type": "execute_result"
    }
   ],
   "source": [
    "key2data['depth']['val']"
   ]
  },
  {
   "cell_type": "code",
   "execution_count": 13,
   "id": "44be3c32",
   "metadata": {},
   "outputs": [
    {
     "name": "stdout",
     "output_type": "stream",
     "text": [
      "51480\n"
     ]
    }
   ],
   "source": [
    "print(4 * dataset_size)"
   ]
  },
  {
   "cell_type": "code",
   "execution_count": 14,
   "id": "bdc77a47",
   "metadata": {
    "scrolled": false
   },
   "outputs": [
    {
     "name": "stdout",
     "output_type": "stream",
     "text": [
      "plotting frozen\n",
      "plotting unfrozen\n",
      "plotting depth\n",
      "plotting train for depth\n",
      "plotting val for depth\n"
     ]
    },
    {
     "data": {
      "image/png": "[encoded data removed]",
      "text/plain": [
       "<Figure size 432x288 with 2 Axes>"
      ]
     },
     "metadata": {
      "needs_background": "light"
     },
     "output_type": "display_data"
    }
   ],
   "source": [
    "tr_colors = ['tab:blue', 'tab:green', 'tomato']\n",
    "val_colors = ['b', 'g', 'r'] # Needs to be same length as keys\n",
    "\n",
    "for key, t_c, v_c in zip(key2data, tr_colors, val_colors):\n",
    "    print(\"plotting\", key)\n",
    "    if key == 'depth':\n",
    "        for mode in modes:\n",
    "            print(\"plotting\", mode, \"for\", key)\n",
    "            if mode == 'train':\n",
    "                plt.plot(key2data[key]['iter'], key2data[key][mode], label=key + ' train', zorder=1, c=t_c)\n",
    "                plt.legend()\n",
    "            elif mode == 'val':\n",
    "                plt.scatter(key2data[key]['epoch'], key2data[key][mode], s=100, c=v_c, marker='o', zorder=2)\n",
    "                plt.legend()\n",
    "\n",
    "axes1 = plt.gca()\n",
    "axes2 = axes1.twiny()\n",
    "num_epochs = 7\n",
    "new_tick_locs = [dataset_size*i for i in range(num_epochs + 1)]\n",
    "axes2.set_xlim(axes1.get_xlim())\n",
    "axes2.set_xticks(new_tick_locs)\n",
    "axes2.set_xticklabels([i for i in range(num_epochs + 1)])\n",
    "axes2.set_xlabel(\"Epochs\")\n",
    "axes1.set_xlabel(\"Training steps\")\n",
    "plt.ylabel(\"Classification Loss\")\n",
    "#axes1.legend(legend)\n",
    "plt.savefig('visualization.png')\n",
    "plt.show()"
   ]
  },
  {
   "cell_type": "code",
   "execution_count": null,
   "id": "b4bc5740",
   "metadata": {},
   "outputs": [],
   "source": [
    "# Next step: visualize on validation set"
   ]
  }
 ],
 "metadata": {
  "kernelspec": {
   "display_name": "Python 3",
   "language": "python",
   "name": "python3"
  },
  "language_info": {
   "codemirror_mode": {
    "name": "ipython",
    "version": 3
   },
   "file_extension": ".py",
   "mimetype": "text/x-python",
   "name": "python",
   "nbconvert_exporter": "python",
   "pygments_lexer": "ipython3",
   "version": "3.9.7"
  }
 },
 "nbformat": 4,
 "nbformat_minor": 5
}
