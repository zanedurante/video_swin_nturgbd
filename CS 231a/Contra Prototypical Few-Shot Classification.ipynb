{
 "cells": [
  {
   "cell_type": "markdown",
   "id": "6288725a-44ea-4947-b128-c4c1d2be4140",
   "metadata": {},
   "source": [
    "# Few-shot classification via Prototypes"
   ]
  },
  {
   "cell_type": "markdown",
   "id": "d7738c4c-d237-4458-bdad-7afdb29351b5",
   "metadata": {
    "tags": []
   },
   "source": [
    "#### Preprocessing "
   ]
  },
  {
   "cell_type": "code",
   "execution_count": 5,
   "id": "acb0184b-48c7-4f7d-9ef5-53ad2ab0184a",
   "metadata": {},
   "outputs": [],
   "source": [
    "# Imports\n",
    "import json\n",
    "import numpy as np\n",
    "from sklearn.metrics import accuracy_score\n",
    "from scipy.special import softmax"
   ]
  },
  {
   "cell_type": "code",
   "execution_count": 6,
   "id": "d28b9108-e88f-445e-97f8-18c94348ad5f",
   "metadata": {},
   "outputs": [],
   "source": [
    "# Reads in an annotation file from filename\n",
    "# Returns list of class_ids from the file\n",
    "def get_classes(filename):\n",
    "    with open(filename, \"r\") as f:\n",
    "        lines = f.readlines()\n",
    "    return [int(line.split()[2]) for line in lines]\n",
    "\n",
    "# Extracts the numpy features from a json file\n",
    "# Output is a NxD array, where N is the number of examples and D is the \n",
    "# extracted feature size\n",
    "def get_features(filename):\n",
    "    with open(filename, \"r\") as f:\n",
    "        data = json.load(f)\n",
    "        arr = np.asarray(data)\n",
    "    return arr"
   ]
  },
  {
   "cell_type": "code",
   "execution_count": 8,
   "id": "0bc9079a-fba8-4e76-b180-f8442fe87a57",
   "metadata": {},
   "outputs": [],
   "source": [
    "# Get classes from the annotation files\n",
    "DATASET_PATH = '/vision/group/ntu-rgbd/'\n",
    "supp_ann_filename = DATASET_PATH + 'few_shot_depth_support_ann.txt'\n",
    "test_ann_filename = DATASET_PATH + '50_few_shot_depth_support_val_ann.txt'\n",
    "supp_classes = get_classes(supp_ann_filename)\n",
    "test_classes = get_classes(test_ann_filename) \n",
    "\n",
    "feature_dir = 'features/contrastive/'"
   ]
  },
  {
   "cell_type": "markdown",
   "id": "c1dd36bc-6ea3-4251-8b56-1c9ba78c525b",
   "metadata": {},
   "source": [
    "## Get RGB Results"
   ]
  },
  {
   "cell_type": "markdown",
   "id": "765c1b64-30f3-4365-9ee3-69e00cf3cb0f",
   "metadata": {
    "tags": []
   },
   "source": [
    "#### Get Prototype values for each class"
   ]
  },
  {
   "cell_type": "code",
   "execution_count": 9,
   "id": "2cd541db-8c93-44c2-9b62-1dde018a909f",
   "metadata": {},
   "outputs": [],
   "source": [
    "# Load embeddings into numpy array\n",
    "rgb_supp_embeds = get_features(feature_dir + 'rgb_support_embeds.json')\n",
    "class2embeds = {}\n",
    "for c, feat in zip(supp_classes, rgb_supp_embeds):\n",
    "    if c not in class2embeds:\n",
    "        class2embeds[c] = []\n",
    "    class2embeds[c].append(feat)\n",
    "class_ids = [key for key in class2embeds.keys()]\n",
    "for c in class_ids:\n",
    "    class2embeds[c] = np.asarray(class2embeds[c])\n",
    "    class2embeds[c] = np.mean(class2embeds[c], axis=0)"
   ]
  },
  {
   "cell_type": "markdown",
   "id": "46cd3c24-bd96-4cd5-89db-9e5e1f4678a1",
   "metadata": {},
   "source": [
    "#### Classify examples"
   ]
  },
  {
   "cell_type": "code",
   "execution_count": 10,
   "id": "33ec1f28-fdb5-4a37-b604-6fe4452c1156",
   "metadata": {},
   "outputs": [],
   "source": [
    "test_embeds = get_features(feature_dir + 'rgb_test_embeds.json')\n",
    "# Classify based on the closest score\n",
    "preds = []\n",
    "rgb_scores = []\n",
    "for embed in test_embeds:\n",
    "    scores = []\n",
    "    for c in class_ids:\n",
    "        score = embed @ class2embeds[c].T\n",
    "        scores.append(score)\n",
    "    rgb_scores.append(softmax(scores)) \n",
    "    class_pred = class_ids[np.argmax(scores)]\n",
    "    preds.append(class_pred)"
   ]
  },
  {
   "cell_type": "markdown",
   "id": "48baeb54-c68a-4786-93eb-dd45c0d62fb6",
   "metadata": {},
   "source": [
    "#### Get results"
   ]
  },
  {
   "cell_type": "code",
   "execution_count": 11,
   "id": "a7124762-99d3-4f29-9583-cc56fd5931f6",
   "metadata": {},
   "outputs": [
    {
     "name": "stdout",
     "output_type": "stream",
     "text": [
      "Accuracy: 0.204\n"
     ]
    }
   ],
   "source": [
    "print(\"Accuracy:\", accuracy_score(preds, test_classes))"
   ]
  },
  {
   "cell_type": "markdown",
   "id": "80ef44b3-7662-4c6f-8484-9c2ce0423e3e",
   "metadata": {
    "tags": []
   },
   "source": [
    "## Get Depth Results"
   ]
  },
  {
   "cell_type": "markdown",
   "id": "21288fc4-ced4-465f-ade4-f2abfa295236",
   "metadata": {
    "tags": []
   },
   "source": [
    "#### Get Prototype values for each class"
   ]
  },
  {
   "cell_type": "code",
   "execution_count": 12,
   "id": "953ceb12-5a8f-48e9-afbf-b5d7d1b19976",
   "metadata": {},
   "outputs": [],
   "source": [
    "# Load embeddings into numpy array\n",
    "depth_supp_embeds = get_features(feature_dir + 'depth_support_embeds.json')\n",
    "class2embeds = {}\n",
    "for c, feat in zip(supp_classes, depth_supp_embeds):\n",
    "    if c not in class2embeds:\n",
    "        class2embeds[c] = []\n",
    "    class2embeds[c].append(feat)\n",
    "class_ids = [key for key in class2embeds.keys()]\n",
    "for c in class_ids:\n",
    "    class2embeds[c] = np.asarray(class2embeds[c])\n",
    "    class2embeds[c] = np.mean(class2embeds[c], axis=0)"
   ]
  },
  {
   "cell_type": "markdown",
   "id": "96db105d-44f6-4eff-b696-b5e1ae67c90c",
   "metadata": {},
   "source": [
    "#### Classify examples"
   ]
  },
  {
   "cell_type": "code",
   "execution_count": 13,
   "id": "7a200925-4a75-4f2d-82a2-ff91d5f23ccd",
   "metadata": {},
   "outputs": [],
   "source": [
    "test_embeds = get_features(feature_dir + 'depth_test_embeds.json')\n",
    "# Classify based on the closest score\n",
    "preds = []\n",
    "depth_scores = []\n",
    "for embed in test_embeds:\n",
    "    scores = []\n",
    "    for c in class_ids:\n",
    "        score = embed @ class2embeds[c].T\n",
    "        scores.append(score)\n",
    "    depth_scores.append(softmax(scores)) \n",
    "    class_pred = class_ids[np.argmax(scores)]\n",
    "    preds.append(class_pred)"
   ]
  },
  {
   "cell_type": "markdown",
   "id": "0a7841c5-4a95-478a-9c3b-4fd8dbe7afac",
   "metadata": {},
   "source": [
    "#### Get results"
   ]
  },
  {
   "cell_type": "code",
   "execution_count": 14,
   "id": "8a910777-515a-445a-a8a4-b3c10e25e866",
   "metadata": {},
   "outputs": [
    {
     "name": "stdout",
     "output_type": "stream",
     "text": [
      "Accuracy: 0.196\n"
     ]
    }
   ],
   "source": [
    "print(\"Accuracy:\", accuracy_score(preds, test_classes))"
   ]
  },
  {
   "cell_type": "markdown",
   "id": "7c3c28cc-1567-4473-b2e8-ec13321df5a2",
   "metadata": {},
   "source": [
    "## Get Fusion Results"
   ]
  },
  {
   "cell_type": "code",
   "execution_count": 15,
   "id": "13cb2eda-41bf-43ea-af6a-feb90a28a86d",
   "metadata": {},
   "outputs": [],
   "source": [
    "# Combine the softmax outputs from the previous two examples + report new values\n",
    "rgb_weight, depth_weight = 1.0, 1.0\n",
    "rgb_scores = np.asarray(rgb_scores)\n",
    "depth_scores = np.asarray(depth_scores)\n",
    "fusion_scores = rgb_weight * rgb_scores + depth_weight * depth_scores / 2 # Simple averaging"
   ]
  },
  {
   "cell_type": "code",
   "execution_count": 16,
   "id": "8bb983ee-b2ad-4de3-884c-c7e129a2e965",
   "metadata": {},
   "outputs": [],
   "source": [
    "preds = []\n",
    "for score in fusion_scores:\n",
    "    class_pred = class_ids[np.argmax(score)]\n",
    "    preds.append(class_pred)"
   ]
  },
  {
   "cell_type": "code",
   "execution_count": 17,
   "id": "97278f24-f81b-4070-bb60-8db9ed0dddde",
   "metadata": {},
   "outputs": [
    {
     "name": "stdout",
     "output_type": "stream",
     "text": [
      "Accuracy: 0.204\n"
     ]
    }
   ],
   "source": [
    "print(\"Accuracy:\", accuracy_score(preds, test_classes))"
   ]
  },
  {
   "cell_type": "code",
   "execution_count": null,
   "id": "48ef8d56-1dc4-41c1-bf4a-7728e2a8be71",
   "metadata": {},
   "outputs": [],
   "source": []
  }
 ],
 "metadata": {
  "kernelspec": {
   "display_name": "Python 3",
   "language": "python",
   "name": "python3"
  },
  "language_info": {
   "codemirror_mode": {
    "name": "ipython",
    "version": 3
   },
   "file_extension": ".py",
   "mimetype": "text/x-python",
   "name": "python",
   "nbconvert_exporter": "python",
   "pygments_lexer": "ipython3",
   "version": "3.9.7"
  }
 },
 "nbformat": 4,
 "nbformat_minor": 5
}
