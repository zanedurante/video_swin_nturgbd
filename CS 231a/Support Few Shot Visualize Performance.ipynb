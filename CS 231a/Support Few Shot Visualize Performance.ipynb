{
 "cells": [
  {
   "cell_type": "code",
   "execution_count": 1,
   "id": "b42470b3",
   "metadata": {},
   "outputs": [],
   "source": [
    "%matplotlib inline"
   ]
  },
  {
   "cell_type": "code",
   "execution_count": 21,
   "id": "22e2117e",
   "metadata": {
    "scrolled": true
   },
   "outputs": [
    {
     "name": "stdout",
     "output_type": "stream",
     "text": [
      "20220220_205950.log\t  20220220_210836.log.json\r\n",
      "20220220_205950.log.json  20220220_212921.log\r\n",
      "20220220_210253.log\t  20220220_212921.log.json\r\n",
      "20220220_210253.log.json  epoch_10.pth\r\n",
      "20220220_210334.log\t  epoch_1.pth\r\n",
      "20220220_210334.log.json  epoch_5.pth\r\n",
      "20220220_210655.log\t  latest.pth\r\n",
      "20220220_210655.log.json  support-set-few-shot-fine-tune-config.py\r\n",
      "20220220_210836.log\r\n"
     ]
    }
   ],
   "source": [
    "!ls /vision/group/ntu-rgbd/zane/work_dirs/support_50_few_shot_nturgbd_swin_tiny_rgb.py"
   ]
  },
  {
   "cell_type": "code",
   "execution_count": 25,
   "id": "9f38976f",
   "metadata": {},
   "outputs": [
    {
     "name": "stdout",
     "output_type": "stream",
     "text": [
      "20220220_214709.log\t  20220220_215113.log.json\r\n",
      "20220220_214709.log.json  epoch_10.pth\r\n",
      "20220220_214837.log\t  epoch_15.pth\r\n",
      "20220220_214837.log.json  epoch_5.pth\r\n",
      "20220220_215013.log\t  latest.pth\r\n",
      "20220220_215013.log.json  support-set-few-shot-fine-tune-depth-config.py\r\n",
      "20220220_215113.log\r\n"
     ]
    }
   ],
   "source": [
    "!ls /vision/group/ntu-rgbd/zane/work_dirs/support_50_few_shot_nturgbd_swin_tiny_depth.py # Change to support"
   ]
  },
  {
   "cell_type": "code",
   "execution_count": 41,
   "id": "3d35abed",
   "metadata": {},
   "outputs": [],
   "source": [
    "WORK_DIR = '/vision/group/ntu-rgbd/zane/work_dirs/'\n",
    "\n",
    "files = [\n",
    "    WORK_DIR + 'support_50_few_shot_nturgbd_swin_tiny_rgb.py/20220220_212921.log.json', \n",
    "    WORK_DIR + 'support_50_few_shot_nturgbd_swin_tiny_depth.py/20220220_215113.log.json',\n",
    "]\n",
    "\n",
    "legend = ['rgb', 'depth']\n",
    "metric = 'loss' #, 'top1_acc', 'top5_acc']\n",
    "# Size of dataset \n",
    "dataset_size = 50\n",
    "step_size = 5 # num examples in each step\n",
    "num_gpus = 2"
   ]
  },
  {
   "cell_type": "code",
   "execution_count": null,
   "id": "4d1216d4",
   "metadata": {},
   "outputs": [],
   "source": []
  },
  {
   "cell_type": "code",
   "execution_count": 42,
   "id": "ebf8feae",
   "metadata": {},
   "outputs": [],
   "source": [
    "# Iterations reset at the end of the epoch\n",
    "from collections import defaultdict\n",
    "iter2times = defaultdict(lambda:0) # keeps track of how many times each iter has been seen\n",
    "\n",
    "def reset_iters():\n",
    "    iter2times.clear()\n",
    "\n",
    "def get_real_iter(i):\n",
    "    val = dataset_size * iter2times[i] + i * num_gpus\n",
    "    iter2times[i] += 1\n",
    "    return val"
   ]
  },
  {
   "cell_type": "code",
   "execution_count": 43,
   "id": "d04eaa07",
   "metadata": {},
   "outputs": [
    {
     "name": "stdout",
     "output_type": "stream",
     "text": [
      "{'mode': 'val', 'epoch': 2, 'iter': 250, 'lr': 0.0, 'memory': 8173, 'data_time': 0.25834, 'top1_acc': 0.302, 'top5_acc': 0.72, 'loss_cls': 2.53555, 'loss': 2.53555, 'time': 0.58941}\n",
      "{'mode': 'val', 'epoch': 4, 'iter': 250, 'lr': 0.0, 'memory': 8175, 'data_time': 0.02772, 'top1_acc': 0.726, 'top5_acc': 0.964, 'loss_cls': 0.90045, 'loss': 0.90045, 'time': 0.36542}\n",
      "{'mode': 'val', 'epoch': 6, 'iter': 250, 'lr': 0.0, 'memory': 8175, 'data_time': 0.01015, 'top1_acc': 0.724, 'top5_acc': 0.986, 'loss_cls': 0.98619, 'loss': 0.98619, 'time': 0.34697}\n",
      "{'mode': 'val', 'epoch': 8, 'iter': 250, 'lr': 0.0, 'memory': 8175, 'data_time': 0.0099, 'top1_acc': 0.732, 'top5_acc': 0.982, 'loss_cls': 0.90834, 'loss': 0.90834, 'time': 0.34579}\n",
      "{'mode': 'val', 'epoch': 10, 'iter': 250, 'lr': 0.0, 'memory': 8175, 'data_time': 0.01032, 'top1_acc': 0.774, 'top5_acc': 0.982, 'loss_cls': 0.77689, 'loss': 0.77689, 'time': 0.34648}\n",
      "{'mode': 'val', 'epoch': 12, 'iter': 250, 'lr': 0.0, 'memory': 8175, 'data_time': 0.01031, 'top1_acc': 0.762, 'top5_acc': 0.976, 'loss_cls': 0.91261, 'loss': 0.91261, 'time': 0.34597}\n",
      "{'mode': 'val', 'epoch': 14, 'iter': 250, 'lr': 0.0, 'memory': 8175, 'data_time': 0.01013, 'top1_acc': 0.77, 'top5_acc': 0.99, 'loss_cls': 0.84113, 'loss': 0.84113, 'time': 0.3456}\n"
     ]
    }
   ],
   "source": [
    "import numpy as np\n",
    "import json\n",
    "steps = []\n",
    "for line in open(files[1], 'r'):\n",
    "    steps.append(json.loads(line))\n",
    "\n",
    "modes = []\n",
    "for step in steps[1:]:\n",
    "    if step['mode'] == 'val':\n",
    "        print(step)"
   ]
  },
  {
   "cell_type": "code",
   "execution_count": 44,
   "id": "0dd108db",
   "metadata": {},
   "outputs": [],
   "source": [
    "import matplotlib.pyplot as plt\n",
    "from scipy.signal import savgol_filter"
   ]
  },
  {
   "cell_type": "code",
   "execution_count": 45,
   "id": "5a55e108",
   "metadata": {},
   "outputs": [],
   "source": [
    "modes = ['train', 'val']\n",
    "key2data = {}\n",
    "for file, key in zip(files, legend):\n",
    "    steps = []\n",
    "    for line in open(file, 'r'):\n",
    "        steps.append(json.loads(line))\n",
    "    mode2steps = {}\n",
    "    for mode in modes:\n",
    "        reset_iters()\n",
    "        mode2steps[mode] = []\n",
    "        if mode == 'train':\n",
    "            mode2steps['iter'] = []           \n",
    "            for s, step in enumerate(steps[1:]): # First step is env_info\n",
    "                if step['mode'] == 'train':\n",
    "                    mode2steps[mode].append(step[metric])\n",
    "                    mode2steps['iter'].append(get_real_iter(step['iter']))\n",
    "\n",
    "        elif mode == 'val':\n",
    "            mode2steps['epoch'] = []\n",
    "            for step in steps[1:]:\n",
    "                if step['mode'] == 'val':\n",
    "                    mode2steps[mode].append(step[metric])\n",
    "                    mode2steps['epoch'].append(step['epoch'] * dataset_size)\n",
    "    \n",
    "    key2data[key] = mode2steps\n",
    "        "
   ]
  },
  {
   "cell_type": "code",
   "execution_count": 46,
   "id": "bdc77a47",
   "metadata": {
    "scrolled": false
   },
   "outputs": [
    {
     "name": "stdout",
     "output_type": "stream",
     "text": [
      "plotting rgb\n",
      "plotting train for rgb\n",
      "plotting val for rgb\n",
      "plotting depth\n",
      "plotting train for depth\n",
      "plotting val for depth\n"
     ]
    },
    {
     "data": {
      "image/png": "[encoded data removed]",
      "text/plain": [
       "<Figure size 432x288 with 2 Axes>"
      ]
     },
     "metadata": {
      "needs_background": "light"
     },
     "output_type": "display_data"
    }
   ],
   "source": [
    "tr_colors = ['tab:blue', 'tomato']\n",
    "val_colors = ['b', 'r'] # Needs to be same length as keys\n",
    "\n",
    "for key, t_c, v_c in zip(key2data, tr_colors, val_colors):\n",
    "    print(\"plotting\", key)\n",
    "    for mode in modes:\n",
    "        print(\"plotting\", mode, \"for\", key)\n",
    "        if mode == 'train':\n",
    "            # Added for smoothing\n",
    "            # y_vals = savgol_filter(key2data[key][mode], 51, 5)\n",
    "            y_vals = key2data[key][mode]\n",
    "            plt.plot(key2data[key]['iter'], y_vals, label=key + ' train', zorder=1, c=t_c)\n",
    "            plt.legend()\n",
    "        elif mode == 'val':\n",
    "            y_vals = key2data[key][mode]\n",
    "            #plt.scatter(key2data[key]['epoch'], y_vals, s=100, c=v_c, marker='o', zorder=2) # Create circles\n",
    "            plt.plot(key2data[key]['epoch'], y_vals, label=key + ' val', zorder=1, linestyle='dashed', c=t_c)\n",
    "            plt.legend()\n",
    "            plt.legend()\n",
    "\n",
    "axes1 = plt.gca()\n",
    "axes2 = axes1.twiny()\n",
    "num_epochs = 10\n",
    "new_tick_locs = [dataset_size*i for i in range(num_epochs + 1)]\n",
    "axes2.set_xlim(axes1.get_xlim())\n",
    "axes2.set_xticks(new_tick_locs)\n",
    "axes2.set_xticklabels([i for i in range(num_epochs + 1)])\n",
    "axes2.set_xlabel(\"Epochs\")\n",
    "axes1.set_xlabel(\"Training steps\")\n",
    "axes1.set_ylabel(\"Classification Loss\")\n",
    "#axes1.legend(legend)\n",
    "plt.savefig('visualization.png')\n",
    "plt.title('Classification loss of RGB and depth networks')\n",
    "plt.show()"
   ]
  },
  {
   "cell_type": "code",
   "execution_count": 111,
   "id": "b4bc5740",
   "metadata": {},
   "outputs": [
    {
     "data": {
      "image/png": "[encoded data removed]",
      "text/plain": [
       "<Figure size 432x288 with 1 Axes>"
      ]
     },
     "metadata": {
      "needs_background": "light"
     },
     "output_type": "display_data"
    }
   ],
   "source": [
    "# Next step: visualize on validation set\n",
    "fig = plt.figure()\n",
    "ax = fig.add_axes([0,0,1,1])\n",
    "langs = ['RGB', 'Depth', 'Fusion']\n",
    "students = [.676,.599,.728]\n",
    "ax.bar(langs,students, color=['r', 'b', 'purple'])\n",
    "ax.set_xlabel(\"Model type\")\n",
    "ax.set_ylabel(\"Classification Accuracy\")\n",
    "ax.set_title(\"Effect of fusion on training set classification accuracy\")\n",
    "plt.show()"
   ]
  },
  {
   "cell_type": "code",
   "execution_count": null,
   "id": "b3ee4c6b",
   "metadata": {},
   "outputs": [],
   "source": []
  }
 ],
 "metadata": {
  "kernelspec": {
   "display_name": "Python 3",
   "language": "python",
   "name": "python3"
  },
  "language_info": {
   "codemirror_mode": {
    "name": "ipython",
    "version": 3
   },
   "file_extension": ".py",
   "mimetype": "text/x-python",
   "name": "python",
   "nbconvert_exporter": "python",
   "pygments_lexer": "ipython3",
   "version": "3.9.7"
  }
 },
 "nbformat": 4,
 "nbformat_minor": 5
}
